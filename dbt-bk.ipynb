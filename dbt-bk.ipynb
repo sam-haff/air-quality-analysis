{
 "cells": [
  {
   "cell_type": "code",
   "execution_count": 2,
   "metadata": {},
   "outputs": [],
   "source": [
    "import dlt\n",
    "from dlt.sources.helpers.rest_client import RESTClient\n",
    "from dlt.sources.helpers.rest_client.paginators import PageNumberPaginator\n",
    "import duckdb"
   ]
  },
  {
   "cell_type": "code",
   "execution_count": 7,
   "metadata": {},
   "outputs": [],
   "source": [
    "@dlt.resource(name=\"openaq_locs\")\n",
    "def openaq_locs():\n",
    "    client = RESTClient(\n",
    "        base_url=\"https://api.openaq.org/v3/locations\",\n",
    "        headers={\"X-API-Key\":\"932148dc9fced6a1df5c6d006c2ab3ae249eb6076ad539c693487236ace264dc\"},\n",
    "        paginator=PageNumberPaginator(\n",
    "            base_page=1,\n",
    "            total_path=None\n",
    "        )\n",
    "    )\n",
    "\n",
    "    for page in client.paginate(params={\"limit\":\"1000\"}):\n",
    "        yield page"
   ]
  },
  {
   "cell_type": "code",
   "execution_count": 24,
   "metadata": {},
   "outputs": [
    {
     "ename": "PipelineStepFailed",
     "evalue": "Pipeline execution failed at stage sync with exception:\n\n<class 'dlt.common.configuration.exceptions.ConfigFieldMissingException'>\nFollowing fields are missing: ['bucket_url'] in configuration with spec FilesystemDestinationClientConfiguration\n\tfor field \"bucket_url\" config providers and keys were tried in following order:\n\t\tIn Environment Variables key OPEN_AQ_LOCS_LOAD__DESTINATION__FILESYSTEM__BUCKET_URL was not found.\n\t\tIn Environment Variables key OPEN_AQ_LOCS_LOAD__DESTINATION__BUCKET_URL was not found.\n\t\tIn Environment Variables key OPEN_AQ_LOCS_LOAD__BUCKET_URL was not found.\n\t\tIn Environment Variables key DESTINATION__FILESYSTEM__BUCKET_URL was not found.\n\t\tIn Environment Variables key DESTINATION__BUCKET_URL was not found.\n\t\tIn Environment Variables key BUCKET_URL was not found.\nWARNING: dlt looks for .dlt folder in your current working directory and your cwd (c:\\Users\\risen\\DataEng\\Project\\airquality) is different from directory of your pipeline script (c:\\Users\\risen\\DataEng\\Project\\airquality\\.venv\\Lib\\site-packages).\nIf you keep your secret files in the same folder as your pipeline script but run your script from some other folder, secrets/configs will not be found\nPlease refer to https://dlthub.com/docs/general-usage/credentials/ for more information\n",
     "output_type": "error",
     "traceback": [
      "\u001b[31m---------------------------------------------------------------------------\u001b[39m",
      "\u001b[31mConfigFieldMissingException\u001b[39m               Traceback (most recent call last)",
      "\u001b[36mFile \u001b[39m\u001b[32mc:\\Users\\risen\\DataEng\\Project\\airquality\\.venv\\Lib\\site-packages\\dlt\\pipeline\\pipeline.py:784\u001b[39m, in \u001b[36mPipeline._sync_destination\u001b[39m\u001b[34m(self, destination, staging, dataset_name)\u001b[39m\n\u001b[32m    782\u001b[39m restored_schemas: Sequence[Schema] = \u001b[38;5;28;01mNone\u001b[39;00m\n\u001b[32m--> \u001b[39m\u001b[32m784\u001b[39m remote_state = \u001b[38;5;28;43mself\u001b[39;49m\u001b[43m.\u001b[49m\u001b[43m_restore_state_from_destination\u001b[49m\u001b[43m(\u001b[49m\u001b[43m)\u001b[49m\n\u001b[32m    786\u001b[39m \u001b[38;5;66;03m# if remote state is newer or same\u001b[39;00m\n\u001b[32m    787\u001b[39m \u001b[38;5;66;03m# print(f'REMOTE STATE: {(remote_state or {}).get(\"_state_version\")} >= {state[\"_state_version\"]}')\u001b[39;00m\n\u001b[32m    788\u001b[39m \u001b[38;5;66;03m# TODO: check if remote_state[\"_state_version\"] is not in 10 recent version. then we know remote is newer.\u001b[39;00m\n",
      "\u001b[36mFile \u001b[39m\u001b[32mc:\\Users\\risen\\DataEng\\Project\\airquality\\.venv\\Lib\\site-packages\\dlt\\pipeline\\pipeline.py:1537\u001b[39m, in \u001b[36mPipeline._restore_state_from_destination\u001b[39m\u001b[34m(self)\u001b[39m\n\u001b[32m   1536\u001b[39m     schema = Schema(schema_name)\n\u001b[32m-> \u001b[39m\u001b[32m1537\u001b[39m \u001b[38;5;28;01mwith\u001b[39;00m \u001b[38;5;28;43mself\u001b[39;49m\u001b[43m.\u001b[49m\u001b[43m_get_destination_clients\u001b[49m\u001b[43m(\u001b[49m\u001b[43mschema\u001b[49m\u001b[43m)\u001b[49m[\u001b[32m0\u001b[39m] \u001b[38;5;28;01mas\u001b[39;00m job_client:\n\u001b[32m   1538\u001b[39m     \u001b[38;5;28;01mif\u001b[39;00m \u001b[38;5;28misinstance\u001b[39m(job_client, WithStateSync):\n",
      "\u001b[36mFile \u001b[39m\u001b[32mc:\\Users\\risen\\DataEng\\Project\\airquality\\.venv\\Lib\\site-packages\\dlt\\pipeline\\pipeline.py:1265\u001b[39m, in \u001b[36mPipeline._get_destination_clients\u001b[39m\u001b[34m(self, schema)\u001b[39m\n\u001b[32m   1257\u001b[39m     \u001b[38;5;28;01mraise\u001b[39;00m PipelineConfigMissing(\n\u001b[32m   1258\u001b[39m         \u001b[38;5;28mself\u001b[39m.pipeline_name,\n\u001b[32m   1259\u001b[39m         \u001b[33m\"\u001b[39m\u001b[33mdestination\u001b[39m\u001b[33m\"\u001b[39m,\n\u001b[32m   (...)\u001b[39m\u001b[32m   1262\u001b[39m         \u001b[33m\"\u001b[39m\u001b[33m directly or via .dlt config.toml file or environment variable.\u001b[39m\u001b[33m\"\u001b[39m,\n\u001b[32m   1263\u001b[39m     )\n\u001b[32m-> \u001b[39m\u001b[32m1265\u001b[39m destination_client, staging_client = \u001b[43mget_destination_clients\u001b[49m\u001b[43m(\u001b[49m\n\u001b[32m   1266\u001b[39m \u001b[43m    \u001b[49m\u001b[43mschema\u001b[49m\u001b[43m=\u001b[49m\u001b[43mschema\u001b[49m\u001b[43m \u001b[49m\u001b[38;5;129;43;01mor\u001b[39;49;00m\u001b[43m \u001b[49m\u001b[38;5;28;43mself\u001b[39;49m\u001b[43m.\u001b[49m\u001b[43mdefault_schema\u001b[49m\u001b[43m,\u001b[49m\n\u001b[32m   1267\u001b[39m \u001b[43m    \u001b[49m\u001b[43mdestination\u001b[49m\u001b[43m=\u001b[49m\u001b[38;5;28;43mself\u001b[39;49m\u001b[43m.\u001b[49m\u001b[43m_destination\u001b[49m\u001b[43m,\u001b[49m\n\u001b[32m   1268\u001b[39m \u001b[43m    \u001b[49m\u001b[43mdestination_dataset_name\u001b[49m\u001b[43m=\u001b[49m\u001b[38;5;28;43mself\u001b[39;49m\u001b[43m.\u001b[49m\u001b[43mdataset_name\u001b[49m\u001b[43m,\u001b[49m\n\u001b[32m   1269\u001b[39m \u001b[43m    \u001b[49m\u001b[43mstaging\u001b[49m\u001b[43m=\u001b[49m\u001b[38;5;28;43mself\u001b[39;49m\u001b[43m.\u001b[49m\u001b[43m_staging\u001b[49m\u001b[43m,\u001b[49m\n\u001b[32m   1270\u001b[39m \u001b[43m    \u001b[49m\u001b[38;5;66;43;03m# in case of destination that does not need dataset name, we still must\u001b[39;49;00m\n\u001b[32m   1271\u001b[39m \u001b[43m    \u001b[49m\u001b[38;5;66;43;03m# provide one to staging\u001b[39;49;00m\n\u001b[32m   1272\u001b[39m \u001b[43m    \u001b[49m\u001b[38;5;66;43;03m# TODO: allow for separate staging_dataset_name, that will require to migrate pipeline state\u001b[39;49;00m\n\u001b[32m   1273\u001b[39m \u001b[43m    \u001b[49m\u001b[38;5;66;43;03m#   to store it.\u001b[39;49;00m\n\u001b[32m   1274\u001b[39m \u001b[43m    \u001b[49m\u001b[43mstaging_dataset_name\u001b[49m\u001b[43m=\u001b[49m\u001b[38;5;28;43mself\u001b[39;49m\u001b[43m.\u001b[49m\u001b[43mdataset_name\u001b[49m\u001b[43m \u001b[49m\u001b[38;5;129;43;01mor\u001b[39;49;00m\u001b[43m \u001b[49m\u001b[38;5;28;43mself\u001b[39;49m\u001b[43m.\u001b[49m\u001b[43m_make_dataset_name\u001b[49m\u001b[43m(\u001b[49m\u001b[38;5;28;43;01mNone\u001b[39;49;00m\u001b[43m,\u001b[49m\u001b[43m \u001b[49m\u001b[38;5;28;43mself\u001b[39;49m\u001b[43m.\u001b[49m\u001b[43m_staging\u001b[49m\u001b[43m)\u001b[49m\u001b[43m,\u001b[49m\n\u001b[32m   1275\u001b[39m \u001b[43m    \u001b[49m\u001b[43mmulti_dataset_default_schema_name\u001b[49m\u001b[43m=\u001b[49m\u001b[43m(\u001b[49m\n\u001b[32m   1276\u001b[39m \u001b[43m        \u001b[49m\u001b[38;5;28;43mself\u001b[39;49m\u001b[43m.\u001b[49m\u001b[43mdefault_schema_name\u001b[49m\u001b[43m \u001b[49m\u001b[38;5;28;43;01mif\u001b[39;49;00m\u001b[43m \u001b[49m\u001b[38;5;129;43;01mnot\u001b[39;49;00m\u001b[43m \u001b[49m\u001b[38;5;28;43mself\u001b[39;49m\u001b[43m.\u001b[49m\u001b[43mconfig\u001b[49m\u001b[43m.\u001b[49m\u001b[43muse_single_dataset\u001b[49m\u001b[43m \u001b[49m\u001b[38;5;28;43;01melse\u001b[39;49;00m\u001b[43m \u001b[49m\u001b[38;5;28;43;01mNone\u001b[39;49;00m\n\u001b[32m   1277\u001b[39m \u001b[43m    \u001b[49m\u001b[43m)\u001b[49m\u001b[43m,\u001b[49m\n\u001b[32m   1278\u001b[39m \u001b[43m\u001b[49m\u001b[43m)\u001b[49m\n\u001b[32m   1280\u001b[39m \u001b[38;5;28;01mif\u001b[39;00m \u001b[38;5;28misinstance\u001b[39m(destination_client.config, DestinationClientStagingConfiguration):\n",
      "\u001b[36mFile \u001b[39m\u001b[32mc:\\Users\\risen\\DataEng\\Project\\airquality\\.venv\\Lib\\site-packages\\dlt\\destinations\\dataset\\utils.py:86\u001b[39m, in \u001b[36mget_destination_clients\u001b[39m\u001b[34m(schema, destination, destination_dataset_name, multi_dataset_default_schema_name, staging, staging_dataset_name)\u001b[39m\n\u001b[32m     85\u001b[39m \u001b[38;5;66;03m# create instance with initial_config properly set\u001b[39;00m\n\u001b[32m---> \u001b[39m\u001b[32m86\u001b[39m client = \u001b[43mdestination\u001b[49m\u001b[43m.\u001b[49m\u001b[43mclient\u001b[49m\u001b[43m(\u001b[49m\u001b[43mschema\u001b[49m\u001b[43m,\u001b[49m\u001b[43m \u001b[49m\u001b[43minitial_config\u001b[49m\u001b[43m)\u001b[49m\n\u001b[32m     87\u001b[39m \u001b[38;5;28;01mreturn\u001b[39;00m client, staging_client\n",
      "\u001b[36mFile \u001b[39m\u001b[32mc:\\Users\\risen\\DataEng\\Project\\airquality\\.venv\\Lib\\site-packages\\dlt\\common\\destination\\reference.py:166\u001b[39m, in \u001b[36mDestination.client\u001b[39m\u001b[34m(self, schema, initial_config)\u001b[39m\n\u001b[32m    165\u001b[39m \u001b[38;5;250m\u001b[39m\u001b[33;03m\"\"\"Returns a configured instance of the destination's job client\"\"\"\u001b[39;00m\n\u001b[32m--> \u001b[39m\u001b[32m166\u001b[39m config = \u001b[38;5;28;43mself\u001b[39;49m\u001b[43m.\u001b[49m\u001b[43mconfiguration\u001b[49m\u001b[43m(\u001b[49m\u001b[43minitial_config\u001b[49m\u001b[43m)\u001b[49m\n\u001b[32m    167\u001b[39m caps = \u001b[38;5;28mself\u001b[39m.capabilities(config, schema.naming)\n",
      "\u001b[36mFile \u001b[39m\u001b[32mc:\\Users\\risen\\DataEng\\Project\\airquality\\.venv\\Lib\\site-packages\\dlt\\common\\destination\\reference.py:153\u001b[39m, in \u001b[36mDestination.configuration\u001b[39m\u001b[34m(self, initial_config, accept_partial)\u001b[39m\n\u001b[32m    151\u001b[39m \u001b[38;5;250m\u001b[39m\u001b[33;03m\"\"\"Get a fully resolved destination config from the initial config\"\"\"\u001b[39;00m\n\u001b[32m--> \u001b[39m\u001b[32m153\u001b[39m config = \u001b[43mresolve_configuration\u001b[49m\u001b[43m(\u001b[49m\n\u001b[32m    154\u001b[39m \u001b[43m    \u001b[49m\u001b[43minitial_config\u001b[49m\u001b[43m \u001b[49m\u001b[38;5;129;43;01mor\u001b[39;49;00m\u001b[43m \u001b[49m\u001b[38;5;28;43mself\u001b[39;49m\u001b[43m.\u001b[49m\u001b[43mspec\u001b[49m\u001b[43m(\u001b[49m\u001b[43m)\u001b[49m\u001b[43m,\u001b[49m\n\u001b[32m    155\u001b[39m \u001b[43m    \u001b[49m\u001b[43msections\u001b[49m\u001b[43m=\u001b[49m\u001b[43m(\u001b[49m\u001b[43mknown_sections\u001b[49m\u001b[43m.\u001b[49m\u001b[43mDESTINATION\u001b[49m\u001b[43m,\u001b[49m\u001b[43m \u001b[49m\u001b[38;5;28;43mself\u001b[39;49m\u001b[43m.\u001b[49m\u001b[43mdestination_name\u001b[49m\u001b[43m)\u001b[49m\u001b[43m,\u001b[49m\n\u001b[32m    156\u001b[39m \u001b[43m    \u001b[49m\u001b[38;5;66;43;03m# Already populated values will supersede resolved env config\u001b[39;49;00m\n\u001b[32m    157\u001b[39m \u001b[43m    \u001b[49m\u001b[43mexplicit_value\u001b[49m\u001b[43m=\u001b[49m\u001b[38;5;28;43mself\u001b[39;49m\u001b[43m.\u001b[49m\u001b[43mconfig_params\u001b[49m\u001b[43m,\u001b[49m\n\u001b[32m    158\u001b[39m \u001b[43m    \u001b[49m\u001b[43maccept_partial\u001b[49m\u001b[43m=\u001b[49m\u001b[43maccept_partial\u001b[49m\u001b[43m,\u001b[49m\n\u001b[32m    159\u001b[39m \u001b[43m\u001b[49m\u001b[43m)\u001b[49m\n\u001b[32m    160\u001b[39m \u001b[38;5;28;01mreturn\u001b[39;00m config\n",
      "\u001b[36mFile \u001b[39m\u001b[32mc:\\Users\\risen\\DataEng\\Project\\airquality\\.venv\\Lib\\site-packages\\dlt\\common\\configuration\\resolve.py:67\u001b[39m, in \u001b[36mresolve_configuration\u001b[39m\u001b[34m(config, sections, explicit_value, accept_partial)\u001b[39m\n\u001b[32m     65\u001b[39m         log_traces(\u001b[38;5;28;01mNone\u001b[39;00m, config.__section__, \u001b[38;5;28mtype\u001b[39m(config), explicit_value, \u001b[38;5;28;01mNone\u001b[39;00m, traces)\n\u001b[32m---> \u001b[39m\u001b[32m67\u001b[39m \u001b[38;5;28;01mreturn\u001b[39;00m \u001b[43m_resolve_configuration\u001b[49m\u001b[43m(\u001b[49m\u001b[43mconfig\u001b[49m\u001b[43m,\u001b[49m\u001b[43m \u001b[49m\u001b[43msections\u001b[49m\u001b[43m,\u001b[49m\u001b[43m \u001b[49m\u001b[43m(\u001b[49m\u001b[43m)\u001b[49m\u001b[43m,\u001b[49m\u001b[43m \u001b[49m\u001b[43mexplicit_value\u001b[49m\u001b[43m,\u001b[49m\u001b[43m \u001b[49m\u001b[43maccept_partial\u001b[49m\u001b[43m)\u001b[49m\n",
      "\u001b[36mFile \u001b[39m\u001b[32mc:\\Users\\risen\\DataEng\\Project\\airquality\\.venv\\Lib\\site-packages\\dlt\\common\\configuration\\resolve.py:164\u001b[39m, in \u001b[36m_resolve_configuration\u001b[39m\u001b[34m(config, explicit_sections, embedded_sections, explicit_value, accept_partial)\u001b[39m\n\u001b[32m    163\u001b[39m \u001b[38;5;28;01mif\u001b[39;00m \u001b[38;5;129;01mnot\u001b[39;00m config.is_resolved():\n\u001b[32m--> \u001b[39m\u001b[32m164\u001b[39m     \u001b[43m_resolve_config_fields\u001b[49m\u001b[43m(\u001b[49m\n\u001b[32m    165\u001b[39m \u001b[43m        \u001b[49m\u001b[43mconfig\u001b[49m\u001b[43m,\u001b[49m\u001b[43m \u001b[49m\u001b[43mexplicit_value\u001b[49m\u001b[43m,\u001b[49m\u001b[43m \u001b[49m\u001b[43mexplicit_sections\u001b[49m\u001b[43m,\u001b[49m\u001b[43m \u001b[49m\u001b[43membedded_sections\u001b[49m\u001b[43m,\u001b[49m\u001b[43m \u001b[49m\u001b[43maccept_partial\u001b[49m\n\u001b[32m    166\u001b[39m \u001b[43m    \u001b[49m\u001b[43m)\u001b[49m\n\u001b[32m    167\u001b[39m \u001b[38;5;66;03m# full configuration was resolved\u001b[39;00m\n",
      "\u001b[36mFile \u001b[39m\u001b[32mc:\\Users\\risen\\DataEng\\Project\\airquality\\.venv\\Lib\\site-packages\\dlt\\common\\configuration\\resolve.py:304\u001b[39m, in \u001b[36m_resolve_config_fields\u001b[39m\u001b[34m(config, explicit_values, explicit_sections, embedded_sections, accept_partial)\u001b[39m\n\u001b[32m    303\u001b[39m \u001b[38;5;28;01mif\u001b[39;00m unresolved_fields:\n\u001b[32m--> \u001b[39m\u001b[32m304\u001b[39m     \u001b[38;5;28;01mraise\u001b[39;00m ConfigFieldMissingException(\u001b[38;5;28mtype\u001b[39m(config).\u001b[34m__name__\u001b[39m, unresolved_fields)\n",
      "\u001b[31mConfigFieldMissingException\u001b[39m: Following fields are missing: ['bucket_url'] in configuration with spec FilesystemDestinationClientConfiguration\n\tfor field \"bucket_url\" config providers and keys were tried in following order:\n\t\tIn Environment Variables key OPEN_AQ_LOCS_LOAD__DESTINATION__FILESYSTEM__BUCKET_URL was not found.\n\t\tIn Environment Variables key OPEN_AQ_LOCS_LOAD__DESTINATION__BUCKET_URL was not found.\n\t\tIn Environment Variables key OPEN_AQ_LOCS_LOAD__BUCKET_URL was not found.\n\t\tIn Environment Variables key DESTINATION__FILESYSTEM__BUCKET_URL was not found.\n\t\tIn Environment Variables key DESTINATION__BUCKET_URL was not found.\n\t\tIn Environment Variables key BUCKET_URL was not found.\nWARNING: dlt looks for .dlt folder in your current working directory and your cwd (c:\\Users\\risen\\DataEng\\Project\\airquality) is different from directory of your pipeline script (c:\\Users\\risen\\DataEng\\Project\\airquality\\.venv\\Lib\\site-packages).\nIf you keep your secret files in the same folder as your pipeline script but run your script from some other folder, secrets/configs will not be found\nPlease refer to https://dlthub.com/docs/general-usage/credentials/ for more information\n",
      "\nThe above exception was the direct cause of the following exception:\n",
      "\u001b[31mPipelineStepFailed\u001b[39m                        Traceback (most recent call last)",
      "\u001b[36mCell\u001b[39m\u001b[36m \u001b[39m\u001b[32mIn[24]\u001b[39m\u001b[32m, line 6\u001b[39m\n\u001b[32m      3\u001b[39m table_name = \u001b[33m\"\u001b[39m\u001b[33mlocs\u001b[39m\u001b[33m\"\u001b[39m\n\u001b[32m      5\u001b[39m pipeline = dlt.pipeline(destination=\u001b[33m\"\u001b[39m\u001b[33mfilesystem\u001b[39m\u001b[33m\"\u001b[39m, pipeline_name=pipeline_name, dataset_name=dataset_name)\n\u001b[32m----> \u001b[39m\u001b[32m6\u001b[39m load_info = \u001b[43mpipeline\u001b[49m\u001b[43m.\u001b[49m\u001b[43mrun\u001b[49m\u001b[43m(\u001b[49m\u001b[43mopenaq_locs\u001b[49m\u001b[43m,\u001b[49m\u001b[43m \u001b[49m\u001b[43mtable_name\u001b[49m\u001b[43m=\u001b[49m\u001b[43mtable_name\u001b[49m\u001b[43m,\u001b[49m\u001b[43m \u001b[49m\u001b[43mloader_file_format\u001b[49m\u001b[43m=\u001b[49m\u001b[33;43m\"\u001b[39;49m\u001b[33;43mparquet\u001b[39;49m\u001b[33;43m\"\u001b[39;49m\u001b[43m,\u001b[49m\u001b[43m \u001b[49m\u001b[43mwrite_disposition\u001b[49m\u001b[43m=\u001b[49m\u001b[33;43m\"\u001b[39;49m\u001b[33;43mreplace\u001b[39;49m\u001b[33;43m\"\u001b[39;49m\u001b[43m)\u001b[49m\n\u001b[32m      8\u001b[39m \u001b[38;5;66;03m#pipeline = dlt.pipeline(destination=\"duckdb\", pipeline_name=pipeline_name, dataset_name=dataset_name)\u001b[39;00m\n\u001b[32m      9\u001b[39m \u001b[38;5;66;03m#load_info = pipeline.run(openaq_locs, table_name=table_name, loader_file_format=\"jsonl\", write_disposition=\"replace\")\u001b[39;00m\n",
      "\u001b[36mFile \u001b[39m\u001b[32mc:\\Users\\risen\\DataEng\\Project\\airquality\\.venv\\Lib\\site-packages\\dlt\\pipeline\\pipeline.py:221\u001b[39m, in \u001b[36mwith_runtime_trace.<locals>.decorator.<locals>._wrap\u001b[39m\u001b[34m(self, *args, **kwargs)\u001b[39m\n\u001b[32m    218\u001b[39m     \u001b[38;5;28;01mif\u001b[39;00m trace:\n\u001b[32m    219\u001b[39m         trace_step = start_trace_step(trace, cast(TPipelineStep, f.\u001b[34m__name__\u001b[39m), \u001b[38;5;28mself\u001b[39m)\n\u001b[32m--> \u001b[39m\u001b[32m221\u001b[39m     step_info = \u001b[43mf\u001b[49m\u001b[43m(\u001b[49m\u001b[38;5;28;43mself\u001b[39;49m\u001b[43m,\u001b[49m\u001b[43m \u001b[49m\u001b[43m*\u001b[49m\u001b[43margs\u001b[49m\u001b[43m,\u001b[49m\u001b[43m \u001b[49m\u001b[43m*\u001b[49m\u001b[43m*\u001b[49m\u001b[43mkwargs\u001b[49m\u001b[43m)\u001b[49m\n\u001b[32m    222\u001b[39m     \u001b[38;5;28;01mreturn\u001b[39;00m step_info\n\u001b[32m    223\u001b[39m \u001b[38;5;28;01mexcept\u001b[39;00m \u001b[38;5;167;01mException\u001b[39;00m \u001b[38;5;28;01mas\u001b[39;00m ex:\n",
      "\u001b[36mFile \u001b[39m\u001b[32mc:\\Users\\risen\\DataEng\\Project\\airquality\\.venv\\Lib\\site-packages\\dlt\\pipeline\\pipeline.py:270\u001b[39m, in \u001b[36mwith_config_section.<locals>.decorator.<locals>._wrap\u001b[39m\u001b[34m(self, *args, **kwargs)\u001b[39m\n\u001b[32m    262\u001b[39m \u001b[38;5;129m@wraps\u001b[39m(f)\n\u001b[32m    263\u001b[39m \u001b[38;5;28;01mdef\u001b[39;00m\u001b[38;5;250m \u001b[39m\u001b[34m_wrap\u001b[39m(\u001b[38;5;28mself\u001b[39m: \u001b[33m\"\u001b[39m\u001b[33mPipeline\u001b[39m\u001b[33m\"\u001b[39m, *args: Any, **kwargs: Any) -> Any:\n\u001b[32m    264\u001b[39m     \u001b[38;5;66;03m# add section context to the container to be used by all configuration without explicit sections resolution\u001b[39;00m\n\u001b[32m    265\u001b[39m     \u001b[38;5;28;01mwith\u001b[39;00m inject_section(\n\u001b[32m    266\u001b[39m         ConfigSectionContext(\n\u001b[32m    267\u001b[39m             pipeline_name=\u001b[38;5;28mself\u001b[39m.pipeline_name, sections=sections, merge_style=merge_func\n\u001b[32m    268\u001b[39m         )\n\u001b[32m    269\u001b[39m     ):\n\u001b[32m--> \u001b[39m\u001b[32m270\u001b[39m         \u001b[38;5;28;01mreturn\u001b[39;00m \u001b[43mf\u001b[49m\u001b[43m(\u001b[49m\u001b[38;5;28;43mself\u001b[39;49m\u001b[43m,\u001b[49m\u001b[43m \u001b[49m\u001b[43m*\u001b[49m\u001b[43margs\u001b[49m\u001b[43m,\u001b[49m\u001b[43m \u001b[49m\u001b[43m*\u001b[49m\u001b[43m*\u001b[49m\u001b[43mkwargs\u001b[49m\u001b[43m)\u001b[49m\n",
      "\u001b[36mFile \u001b[39m\u001b[32mc:\\Users\\risen\\DataEng\\Project\\airquality\\.venv\\Lib\\site-packages\\dlt\\pipeline\\pipeline.py:712\u001b[39m, in \u001b[36mPipeline.run\u001b[39m\u001b[34m(self, data, destination, staging, dataset_name, credentials, table_name, write_disposition, columns, primary_key, schema, loader_file_format, table_format, schema_contract, refresh)\u001b[39m\n\u001b[32m    705\u001b[39m \u001b[38;5;66;03m# sync state with destination\u001b[39;00m\n\u001b[32m    706\u001b[39m \u001b[38;5;28;01mif\u001b[39;00m (\n\u001b[32m    707\u001b[39m     \u001b[38;5;28mself\u001b[39m.config.restore_from_destination\n\u001b[32m    708\u001b[39m     \u001b[38;5;129;01mand\u001b[39;00m \u001b[38;5;129;01mnot\u001b[39;00m \u001b[38;5;28mself\u001b[39m.dev_mode\n\u001b[32m    709\u001b[39m     \u001b[38;5;129;01mand\u001b[39;00m \u001b[38;5;129;01mnot\u001b[39;00m \u001b[38;5;28mself\u001b[39m._state_restored\n\u001b[32m    710\u001b[39m     \u001b[38;5;129;01mand\u001b[39;00m (\u001b[38;5;28mself\u001b[39m._destination \u001b[38;5;129;01mor\u001b[39;00m destination)\n\u001b[32m    711\u001b[39m ):\n\u001b[32m--> \u001b[39m\u001b[32m712\u001b[39m     \u001b[38;5;28;43mself\u001b[39;49m\u001b[43m.\u001b[49m\u001b[43m_sync_destination\u001b[49m\u001b[43m(\u001b[49m\u001b[43mdestination\u001b[49m\u001b[43m,\u001b[49m\u001b[43m \u001b[49m\u001b[43mstaging\u001b[49m\u001b[43m,\u001b[49m\u001b[43m \u001b[49m\u001b[43mdataset_name\u001b[49m\u001b[43m)\u001b[49m\n\u001b[32m    713\u001b[39m     \u001b[38;5;66;03m# sync only once\u001b[39;00m\n\u001b[32m    714\u001b[39m     \u001b[38;5;28mself\u001b[39m._state_restored = \u001b[38;5;28;01mTrue\u001b[39;00m\n",
      "\u001b[36mFile \u001b[39m\u001b[32mc:\\Users\\risen\\DataEng\\Project\\airquality\\.venv\\Lib\\site-packages\\dlt\\pipeline\\pipeline.py:175\u001b[39m, in \u001b[36mwith_schemas_sync.<locals>._wrap\u001b[39m\u001b[34m(self, *args, **kwargs)\u001b[39m\n\u001b[32m    173\u001b[39m     \u001b[38;5;28mself\u001b[39m._schema_storage.commit_live_schema(name)\n\u001b[32m    174\u001b[39m \u001b[38;5;28;01mtry\u001b[39;00m:\n\u001b[32m--> \u001b[39m\u001b[32m175\u001b[39m     rv = \u001b[43mf\u001b[49m\u001b[43m(\u001b[49m\u001b[38;5;28;43mself\u001b[39;49m\u001b[43m,\u001b[49m\u001b[43m \u001b[49m\u001b[43m*\u001b[49m\u001b[43margs\u001b[49m\u001b[43m,\u001b[49m\u001b[43m \u001b[49m\u001b[43m*\u001b[49m\u001b[43m*\u001b[49m\u001b[43mkwargs\u001b[49m\u001b[43m)\u001b[49m\n\u001b[32m    176\u001b[39m \u001b[38;5;28;01mexcept\u001b[39;00m \u001b[38;5;167;01mException\u001b[39;00m:\n\u001b[32m    177\u001b[39m     \u001b[38;5;66;03m# because we committed live schema before calling f, we may safely\u001b[39;00m\n\u001b[32m    178\u001b[39m     \u001b[38;5;66;03m# drop all changes in live schemas\u001b[39;00m\n\u001b[32m    179\u001b[39m     \u001b[38;5;28;01mfor\u001b[39;00m name \u001b[38;5;129;01min\u001b[39;00m \u001b[38;5;28mlist\u001b[39m(\u001b[38;5;28mself\u001b[39m._schema_storage.live_schemas.keys()):\n",
      "\u001b[36mFile \u001b[39m\u001b[32mc:\\Users\\risen\\DataEng\\Project\\airquality\\.venv\\Lib\\site-packages\\dlt\\pipeline\\pipeline.py:853\u001b[39m, in \u001b[36mPipeline._sync_destination\u001b[39m\u001b[34m(self, destination, staging, dataset_name)\u001b[39m\n\u001b[32m    851\u001b[39m     \u001b[38;5;28mself\u001b[39m._save_state(state)\n\u001b[32m    852\u001b[39m \u001b[38;5;28;01mexcept\u001b[39;00m \u001b[38;5;167;01mException\u001b[39;00m \u001b[38;5;28;01mas\u001b[39;00m ex:\n\u001b[32m--> \u001b[39m\u001b[32m853\u001b[39m     \u001b[38;5;28;01mraise\u001b[39;00m PipelineStepFailed(\u001b[38;5;28mself\u001b[39m, \u001b[33m\"\u001b[39m\u001b[33msync\u001b[39m\u001b[33m\"\u001b[39m, \u001b[38;5;28;01mNone\u001b[39;00m, ex, \u001b[38;5;28;01mNone\u001b[39;00m) \u001b[38;5;28;01mfrom\u001b[39;00m\u001b[38;5;250m \u001b[39m\u001b[34;01mex\u001b[39;00m\n",
      "\u001b[31mPipelineStepFailed\u001b[39m: Pipeline execution failed at stage sync with exception:\n\n<class 'dlt.common.configuration.exceptions.ConfigFieldMissingException'>\nFollowing fields are missing: ['bucket_url'] in configuration with spec FilesystemDestinationClientConfiguration\n\tfor field \"bucket_url\" config providers and keys were tried in following order:\n\t\tIn Environment Variables key OPEN_AQ_LOCS_LOAD__DESTINATION__FILESYSTEM__BUCKET_URL was not found.\n\t\tIn Environment Variables key OPEN_AQ_LOCS_LOAD__DESTINATION__BUCKET_URL was not found.\n\t\tIn Environment Variables key OPEN_AQ_LOCS_LOAD__BUCKET_URL was not found.\n\t\tIn Environment Variables key DESTINATION__FILESYSTEM__BUCKET_URL was not found.\n\t\tIn Environment Variables key DESTINATION__BUCKET_URL was not found.\n\t\tIn Environment Variables key BUCKET_URL was not found.\nWARNING: dlt looks for .dlt folder in your current working directory and your cwd (c:\\Users\\risen\\DataEng\\Project\\airquality) is different from directory of your pipeline script (c:\\Users\\risen\\DataEng\\Project\\airquality\\.venv\\Lib\\site-packages).\nIf you keep your secret files in the same folder as your pipeline script but run your script from some other folder, secrets/configs will not be found\nPlease refer to https://dlthub.com/docs/general-usage/credentials/ for more information\n"
     ]
    }
   ],
   "source": [
    "pipeline_name = \"open_aq_locs_load\"\n",
    "dataset_name = \"open_aq\"\n",
    "table_name = \"locs\"\n",
    "\n",
    "pipeline = dlt.pipeline(destination=\"filesystem\", pipeline_name=pipeline_name, dataset_name=dataset_name)\n",
    "load_info = pipeline.run(openaq_locs, table_name=table_name, loader_file_format=\"parquet\", write_disposition=\"replace\")\n",
    "\n",
    "#pipeline = dlt.pipeline(destination=\"duckdb\", pipeline_name=pipeline_name, dataset_name=dataset_name)\n",
    "#load_info = pipeline.run(openaq_locs, table_name=table_name, loader_file_format=\"jsonl\", write_disposition=\"replace\")"
   ]
  },
  {
   "cell_type": "code",
   "execution_count": 10,
   "metadata": {},
   "outputs": [],
   "source": [
    "db_conn = duckdb.connect(f'{pipeline_name}.duckdb')\n",
    "db_conn.sql(f'SET search_path = {dataset_name}')"
   ]
  },
  {
   "cell_type": "code",
   "execution_count": 13,
   "metadata": {},
   "outputs": [
    {
     "name": "stdout",
     "output_type": "stream",
     "text": [
      "Number of tables: 8\n",
      "Number of records extracted: 19986\n"
     ]
    }
   ],
   "source": [
    "print(f'Number of tables: {db_conn.sql(\"DESCRIBE\").df().shape[0]}')\n",
    "\n",
    "print(f'Number of records extracted: {pipeline.dataset(dataset_type=\"default\").locs.df().shape[0]}')"
   ]
  },
  {
   "cell_type": "code",
   "execution_count": 21,
   "metadata": {},
   "outputs": [
    {
     "name": "stdout",
     "output_type": "stream",
     "text": [
      "[(3, 'NMA - Nima', 'Africa/Accra', 152, 'GH', 'Ghana', 4, 'Unknown Governmental Organization', 209, 'Dr. Raphael E. Arku and Colleagues', False, True, 5.58389, -0.19968, '1743198912.5263681', 'lq/3xKbxXQQI5w', None, None, None, None, None)]\n"
     ]
    }
   ],
   "source": [
    "with pipeline.sql_client() as db_client:\n",
    "    res = db_client.execute_sql(\n",
    "        \"\"\"\n",
    "        SELECT *\n",
    "        FROM locs\n",
    "        limit 1;\n",
    "        \"\"\"\n",
    "    )\n",
    "    print(res)"
   ]
  },
  {
   "cell_type": "code",
   "execution_count": 18,
   "metadata": {},
   "outputs": [
    {
     "name": "stdout",
     "output_type": "stream",
     "text": [
      "[('_dlt_loads',), ('_dlt_pipeline_state',), ('_dlt_version',), ('locs',), ('locs__bounds',), ('locs__instruments',), ('locs__licenses',), ('locs__sensors',)]\n"
     ]
    }
   ],
   "source": [
    "with pipeline.sql_client() as db_client:\n",
    "    res = db_client.execute_sql(\n",
    "        \"\"\"\n",
    "SHOW TABLES;\n",
    "        \"\"\"\n",
    "    )\n",
    "    print(res)"
   ]
  },
  {
   "cell_type": "code",
   "execution_count": null,
   "metadata": {},
   "outputs": [
    {
     "name": "stdout",
     "output_type": "stream",
     "text": [
      "[('id', 'BIGINT', 'YES', None, None, None), ('name', 'VARCHAR', 'YES', None, None, None), ('timezone', 'VARCHAR', 'YES', None, None, None), ('country__id', 'BIGINT', 'YES', None, None, None), ('country__code', 'VARCHAR', 'YES', None, None, None), ('country__name', 'VARCHAR', 'YES', None, None, None), ('owner__id', 'BIGINT', 'YES', None, None, None), ('owner__name', 'VARCHAR', 'YES', None, None, None), ('provider__id', 'BIGINT', 'YES', None, None, None), ('provider__name', 'VARCHAR', 'YES', None, None, None), ('is_mobile', 'BOOLEAN', 'YES', None, None, None), ('is_monitor', 'BOOLEAN', 'YES', None, None, None), ('coordinates__latitude', 'DOUBLE', 'YES', None, None, None), ('coordinates__longitude', 'DOUBLE', 'YES', None, None, None), ('_dlt_load_id', 'VARCHAR', 'NO', None, None, None), ('_dlt_id', 'VARCHAR', 'NO', None, None, None), ('datetime_first__utc', 'TIMESTAMP WITH TIME ZONE', 'YES', None, None, None), ('datetime_first__local', 'TIMESTAMP WITH TIME ZONE', 'YES', None, None, None), ('datetime_last__utc', 'TIMESTAMP WITH TIME ZONE', 'YES', None, None, None), ('datetime_last__local', 'TIMESTAMP WITH TIME ZONE', 'YES', None, None, None), ('locality', 'VARCHAR', 'YES', None, None, None)]\n"
     ]
    }
   ],
   "source": [
    "with pipeline.sql_client() as db_client:\n",
    "    res = db_client.execute_sql(\n",
    "        \"\"\"\n",
    "DESCRIBE locs;\n",
    "        \"\"\"\n",
    "    )\n",
    "    print(res)"
   ]
  },
  {
   "cell_type": "code",
   "execution_count": 20,
   "metadata": {},
   "outputs": [
    {
     "name": "stdout",
     "output_type": "stream",
     "text": [
      "[('id', 'BIGINT', 'YES', None, None, None), ('name', 'VARCHAR', 'YES', None, None, None), ('parameter__id', 'BIGINT', 'YES', None, None, None), ('parameter__name', 'VARCHAR', 'YES', None, None, None), ('parameter__units', 'VARCHAR', 'YES', None, None, None), ('parameter__display_name', 'VARCHAR', 'YES', None, None, None), ('_dlt_parent_id', 'VARCHAR', 'NO', None, None, None), ('_dlt_list_idx', 'BIGINT', 'NO', None, None, None), ('_dlt_id', 'VARCHAR', 'NO', None, None, None)]\n"
     ]
    }
   ],
   "source": [
    "with pipeline.sql_client() as db_client:\n",
    "    res = db_client.execute_sql(\n",
    "        \"\"\"\n",
    "DESCRIBE locs__sensors;\n",
    "        \"\"\"\n",
    "    )\n",
    "    print(res)"
   ]
  },
  {
   "cell_type": "code",
   "execution_count": 19,
   "metadata": {},
   "outputs": [
    {
     "name": "stdout",
     "output_type": "stream",
     "text": [
      "[(6, 'pm10 µg/m³', 1, 'pm10', 'µg/m³', 'PM10', 'lq/3xKbxXQQI5w', 0, 'LlPu/vTR4H8tRQ')]\n"
     ]
    }
   ],
   "source": [
    "with pipeline.sql_client() as db_client:\n",
    "    res = db_client.execute_sql(\n",
    "        \"\"\"\n",
    "SELECT *\n",
    "FROM locs__sensors\n",
    "LIMIT 1;\n",
    "        \"\"\"\n",
    "    )\n",
    "    print(res)"
   ]
  },
  {
   "cell_type": "code",
   "execution_count": null,
   "metadata": {},
   "outputs": [
    {
     "name": "stdout",
     "output_type": "stream",
     "text": [
      "Index(['id_sensor', 'name_sensor', 'parameter__id', 'parameter__name',\n",
      "       'parameter__units', 'parameter__display_name', '_dlt_list_idx',\n",
      "       '_dlt_id', 'id_loc', 'name_loc', 'timezone', 'country__id',\n",
      "       'country__code', 'country__name', 'owner__id', 'owner__name',\n",
      "       'provider__id', 'provider__name', 'is_mobile', 'is_monitor',\n",
      "       'coordinates__latitude', 'coordinates__longitude', '_dlt_load_id',\n",
      "       'datetime_first__utc', 'datetime_first__local', 'datetime_last__utc',\n",
      "       'datetime_last__local', 'locality'],\n",
      "      dtype='object')\n"
     ]
    }
   ],
   "source": [
    "import pandas as pd\n",
    "\n",
    "sensors_df = pd.read_parquet(\"C:/Users/risen/aq_data/open_aq/locs__sensors/\")#1743212940.5629327.d66fe46d42.parquet\")\n",
    "pd.unique(sensors_df.parameter__name)\n",
    "\n",
    "locs_df = pd.read_parquet(\"C:/Users/risen/aq_data/open_aq/locs/1743212940.5629327.2f63273e3c.parquet\")\n",
    "\n",
    "[['id_sensor', 'name_sensor', 'parameter__id', 'parameter__name', 'parameter__units', 'parameter__display_name', 'id_loc', 'name_loc', 'timezone', 'country__id', 'country__code', 'country__name', 'coordinates__latitude', 'coordinates__longitude', 'datetime_first__utc', 'datetime_last__utc']]\n",
    "enr_df = sensors_df.set_index('_dlt_parent_id').join(locs_df.set_index('_dlt_id'), lsuffix=\"_sensor\", rsuffix=\"_loc\")\n",
    "with pd.option_context('display.max_seq_items', None):\n",
    "    print(enr_df.columns)\n",
    "\n",
    "#sensors_final_df = enr_df[['id_sensor', 'name_sensor', 'parameter__id', 'parameter__name', 'parameter__units', 'parameter__display_name', 'id_loc', 'name_loc', 'timezone', 'country__id', 'country__code', 'country__name', 'coordinates__latitude', 'coordinates__longitude', 'datetime_first__utc', 'datetime_last__utc']]\n",
    "#sensors_final_df.to_parquet()\n",
    "#enr_df"
   ]
  },
  {
   "cell_type": "code",
   "execution_count": 5,
   "metadata": {},
   "outputs": [
    {
     "data": {
      "text/html": [
       "<div>\n",
       "<style scoped>\n",
       "    .dataframe tbody tr th:only-of-type {\n",
       "        vertical-align: middle;\n",
       "    }\n",
       "\n",
       "    .dataframe tbody tr th {\n",
       "        vertical-align: top;\n",
       "    }\n",
       "\n",
       "    .dataframe thead th {\n",
       "        text-align: right;\n",
       "    }\n",
       "</style>\n",
       "<table border=\"1\" class=\"dataframe\">\n",
       "  <thead>\n",
       "    <tr style=\"text-align: right;\">\n",
       "      <th></th>\n",
       "      <th>id</th>\n",
       "      <th>name</th>\n",
       "      <th>parameter__id</th>\n",
       "      <th>parameter__name</th>\n",
       "      <th>parameter__units</th>\n",
       "      <th>parameter__display_name</th>\n",
       "      <th>_dlt_parent_id</th>\n",
       "      <th>_dlt_list_idx</th>\n",
       "      <th>_dlt_id</th>\n",
       "    </tr>\n",
       "  </thead>\n",
       "  <tbody>\n",
       "    <tr>\n",
       "      <th>0</th>\n",
       "      <td>6</td>\n",
       "      <td>pm10 µg/m³</td>\n",
       "      <td>1</td>\n",
       "      <td>pm10</td>\n",
       "      <td>µg/m³</td>\n",
       "      <td>PM10</td>\n",
       "      <td>yzWpoYvCgS02gQ</td>\n",
       "      <td>0</td>\n",
       "      <td>oFgptEyndBBdYQ</td>\n",
       "    </tr>\n",
       "    <tr>\n",
       "      <th>1</th>\n",
       "      <td>5</td>\n",
       "      <td>pm25 µg/m³</td>\n",
       "      <td>2</td>\n",
       "      <td>pm25</td>\n",
       "      <td>µg/m³</td>\n",
       "      <td>PM2.5</td>\n",
       "      <td>yzWpoYvCgS02gQ</td>\n",
       "      <td>1</td>\n",
       "      <td>+te7IjPPOku9cQ</td>\n",
       "    </tr>\n",
       "    <tr>\n",
       "      <th>2</th>\n",
       "      <td>7</td>\n",
       "      <td>pm10 µg/m³</td>\n",
       "      <td>1</td>\n",
       "      <td>pm10</td>\n",
       "      <td>µg/m³</td>\n",
       "      <td>PM10</td>\n",
       "      <td>4mU3gtxVPvFcMQ</td>\n",
       "      <td>0</td>\n",
       "      <td>F0OK1r9CGMYENA</td>\n",
       "    </tr>\n",
       "    <tr>\n",
       "      <th>3</th>\n",
       "      <td>8</td>\n",
       "      <td>pm25 µg/m³</td>\n",
       "      <td>2</td>\n",
       "      <td>pm25</td>\n",
       "      <td>µg/m³</td>\n",
       "      <td>PM2.5</td>\n",
       "      <td>4mU3gtxVPvFcMQ</td>\n",
       "      <td>1</td>\n",
       "      <td>eNY5JbxDx0ISAA</td>\n",
       "    </tr>\n",
       "    <tr>\n",
       "      <th>4</th>\n",
       "      <td>10</td>\n",
       "      <td>pm10 µg/m³</td>\n",
       "      <td>1</td>\n",
       "      <td>pm10</td>\n",
       "      <td>µg/m³</td>\n",
       "      <td>PM10</td>\n",
       "      <td>IwqX3OwyTC+Tww</td>\n",
       "      <td>0</td>\n",
       "      <td>u+0QVnvNKDErQQ</td>\n",
       "    </tr>\n",
       "    <tr>\n",
       "      <th>...</th>\n",
       "      <td>...</td>\n",
       "      <td>...</td>\n",
       "      <td>...</td>\n",
       "      <td>...</td>\n",
       "      <td>...</td>\n",
       "      <td>...</td>\n",
       "      <td>...</td>\n",
       "      <td>...</td>\n",
       "      <td>...</td>\n",
       "    </tr>\n",
       "    <tr>\n",
       "      <th>82373</th>\n",
       "      <td>12613806</td>\n",
       "      <td>pm25 µg/m³</td>\n",
       "      <td>2</td>\n",
       "      <td>pm25</td>\n",
       "      <td>µg/m³</td>\n",
       "      <td>PM2.5</td>\n",
       "      <td>OshPrCQ4lZwckA</td>\n",
       "      <td>0</td>\n",
       "      <td>vv5UhaIE/ipIhw</td>\n",
       "    </tr>\n",
       "    <tr>\n",
       "      <th>82374</th>\n",
       "      <td>12613805</td>\n",
       "      <td>pm25 µg/m³</td>\n",
       "      <td>2</td>\n",
       "      <td>pm25</td>\n",
       "      <td>µg/m³</td>\n",
       "      <td>PM2.5</td>\n",
       "      <td>9w+mn4bqyxhhPA</td>\n",
       "      <td>0</td>\n",
       "      <td>Qya5QR/OQ2qVmg</td>\n",
       "    </tr>\n",
       "    <tr>\n",
       "      <th>82375</th>\n",
       "      <td>12614084</td>\n",
       "      <td>pm25 µg/m³</td>\n",
       "      <td>2</td>\n",
       "      <td>pm25</td>\n",
       "      <td>µg/m³</td>\n",
       "      <td>PM2.5</td>\n",
       "      <td>1FG/obi7b6WG3g</td>\n",
       "      <td>0</td>\n",
       "      <td>sKVNCG5q6O/Mtg</td>\n",
       "    </tr>\n",
       "    <tr>\n",
       "      <th>82376</th>\n",
       "      <td>12615991</td>\n",
       "      <td>pm25 µg/m³</td>\n",
       "      <td>2</td>\n",
       "      <td>pm25</td>\n",
       "      <td>µg/m³</td>\n",
       "      <td>PM2.5</td>\n",
       "      <td>YjRO0nBjErFNoQ</td>\n",
       "      <td>0</td>\n",
       "      <td>oYgJgFkZjFG58w</td>\n",
       "    </tr>\n",
       "    <tr>\n",
       "      <th>82377</th>\n",
       "      <td>12615992</td>\n",
       "      <td>pm25 µg/m³</td>\n",
       "      <td>2</td>\n",
       "      <td>pm25</td>\n",
       "      <td>µg/m³</td>\n",
       "      <td>PM2.5</td>\n",
       "      <td>jLTQFEsjpGrRXQ</td>\n",
       "      <td>0</td>\n",
       "      <td>hVOnwG4UG9U0VQ</td>\n",
       "    </tr>\n",
       "  </tbody>\n",
       "</table>\n",
       "<p>82378 rows × 9 columns</p>\n",
       "</div>"
      ],
      "text/plain": [
       "             id        name  parameter__id parameter__name parameter__units  \\\n",
       "0             6  pm10 µg/m³              1            pm10            µg/m³   \n",
       "1             5  pm25 µg/m³              2            pm25            µg/m³   \n",
       "2             7  pm10 µg/m³              1            pm10            µg/m³   \n",
       "3             8  pm25 µg/m³              2            pm25            µg/m³   \n",
       "4            10  pm10 µg/m³              1            pm10            µg/m³   \n",
       "...         ...         ...            ...             ...              ...   \n",
       "82373  12613806  pm25 µg/m³              2            pm25            µg/m³   \n",
       "82374  12613805  pm25 µg/m³              2            pm25            µg/m³   \n",
       "82375  12614084  pm25 µg/m³              2            pm25            µg/m³   \n",
       "82376  12615991  pm25 µg/m³              2            pm25            µg/m³   \n",
       "82377  12615992  pm25 µg/m³              2            pm25            µg/m³   \n",
       "\n",
       "      parameter__display_name  _dlt_parent_id  _dlt_list_idx         _dlt_id  \n",
       "0                        PM10  yzWpoYvCgS02gQ              0  oFgptEyndBBdYQ  \n",
       "1                       PM2.5  yzWpoYvCgS02gQ              1  +te7IjPPOku9cQ  \n",
       "2                        PM10  4mU3gtxVPvFcMQ              0  F0OK1r9CGMYENA  \n",
       "3                       PM2.5  4mU3gtxVPvFcMQ              1  eNY5JbxDx0ISAA  \n",
       "4                        PM10  IwqX3OwyTC+Tww              0  u+0QVnvNKDErQQ  \n",
       "...                       ...             ...            ...             ...  \n",
       "82373                   PM2.5  OshPrCQ4lZwckA              0  vv5UhaIE/ipIhw  \n",
       "82374                   PM2.5  9w+mn4bqyxhhPA              0  Qya5QR/OQ2qVmg  \n",
       "82375                   PM2.5  1FG/obi7b6WG3g              0  sKVNCG5q6O/Mtg  \n",
       "82376                   PM2.5  YjRO0nBjErFNoQ              0  oYgJgFkZjFG58w  \n",
       "82377                   PM2.5  jLTQFEsjpGrRXQ              0  hVOnwG4UG9U0VQ  \n",
       "\n",
       "[82378 rows x 9 columns]"
      ]
     },
     "execution_count": 5,
     "metadata": {},
     "output_type": "execute_result"
    }
   ],
   "source": [
    "df"
   ]
  }
 ],
 "metadata": {
  "kernelspec": {
   "display_name": ".venv",
   "language": "python",
   "name": "python3"
  },
  "language_info": {
   "codemirror_mode": {
    "name": "ipython",
    "version": 3
   },
   "file_extension": ".py",
   "mimetype": "text/x-python",
   "name": "python",
   "nbconvert_exporter": "python",
   "pygments_lexer": "ipython3",
   "version": "3.11.7"
  }
 },
 "nbformat": 4,
 "nbformat_minor": 2
}
